{
 "cells": [
  {
   "cell_type": "markdown",
   "metadata": {},
   "source": [
    "# Analyse Bevolkingsdata Utrecht\n",
    "\n",
    "## Importeren van de data\n",
    "Eerst wordt de data geïmporteerd, dit wordt gedaan met de code in het gegeven voorbeeld:"
   ]
  },
  {
   "cell_type": "code",
   "execution_count": 3,
   "metadata": {},
   "outputs": [
    {
     "name": "stdout",
     "output_type": "stream",
     "text": [
      "Processed 224 lines.\n"
     ]
    }
   ],
   "source": [
    "import csv\n",
    "import numpy as np\n",
    "import matplotlib.pyplot as plt\n",
    "\n",
    "filename = 'utrecht.csv'\n",
    "\n",
    "columns = {}\n",
    "rows = []\n",
    "data = {}\n",
    "\n",
    "# hulp functie om te kijken of de waarde een integer is\n",
    "def is_number(s):\n",
    "    try:\n",
    "        int(s)\n",
    "        return True\n",
    "    except ValueError:\n",
    "        return False\n",
    "\n",
    "with open(filename) as csv_file:\n",
    "    csv_reader = csv.reader(csv_file, delimiter=';')\n",
    "    line_count = 0\n",
    "    for row in csv_reader:\n",
    "        # anders reageren als het de eerste regel is, dat zijn namelijk de kolomnamen\n",
    "        if line_count == 0:\n",
    "            line_count += 1\n",
    "            i = 0\n",
    "            for c in row:\n",
    "                columns[c] = i\n",
    "                data[i] = []\n",
    "                i += 1\n",
    "        else:\n",
    "            line_count += 1\n",
    "            # alleen importeren als het maanddata is, niet de cummulatieven over een jaar\n",
    "            if 'JJ00' in row[columns['Perioden']]:\n",
    "                pass\n",
    "            else:\n",
    "                rows.append(row)\n",
    "                i = 0\n",
    "                for c in row:\n",
    "                    if is_number(c):\n",
    "                        data[i].append(int(c))\n",
    "                    else:\n",
    "                        data[i].append(c)\n",
    "                    i = i+1\n",
    "    print(f'Processed {line_count} lines.')"
   ]
  },
  {
   "cell_type": "markdown",
   "metadata": {},
   "source": [
    "## Gemiddelde, Mediaan, Modus en Standaarddeviatie\n",
    "Voor het berekenen van deze waarden is voor elk onderdeel een functie geschreven, die de waarde kan bepalen aan de hand van een gegeven lijst met getallen.\n",
    "### Mediaan\n",
    "De mediaan wordt bepaald aan de hand van de lengte van de lijst 'n'. Deze waarde wordt door verschillende if-statements gehaald om te controleren welke berekening moet worden uitgevoerd.<br>\n",
    "Bij een lijst groter dan 2 wordt er gekeken of de lengte een oneven of even getal is. Bij een oneven getal wordt berekend hoevaak 2 in de lengte van de lijst past (met behulp van de '//' operator). Door ddit getal als index te gebruiken wordt de mediaan van de lijst teruggegeven.<br>\n",
    "Bij een even getal wordt dezelfde techniek met de '//' operator toegepast om de middelste 2 getallen uit de lijst te halen en daar het gemiddelde van te berekenen.<br>\n",
    "Als de lengte van de lijst gelijk is aan 2 wordt het gemiddelde van die 2 getallen teruggegeven.<br>\n",
    "Bij een lengte van 1 wordt dat getal teruggegeven."
   ]
  },
  {
   "cell_type": "code",
   "execution_count": 4,
   "metadata": {},
   "outputs": [],
   "source": [
    "def median(lst):\n",
    "    n = len(lst)\n",
    "    if n > 2:\n",
    "        if n % 2 == 0:\n",
    "            return (lst[n // 2] + lst[(n // 2) - 1]) / 2.0\n",
    "        else:\n",
    "            return lst[n // 2]\n",
    "    if n == 2:\n",
    "        return (lst[0] + lst[1]) / 2\n",
    "    return lst[0]"
   ]
  },
  {
   "cell_type": "markdown",
   "metadata": {},
   "source": [
    "### Gemiddelde\n",
    "Het gemiddelde wordt berekend door de som van de lijst te delen door de lengte van de lijst. Som en aantal worden op nul gezet, er wordt door de lijst gelopen om deze getallen juist te berekenen. De teruggegeven waarde is de som gedeeld door het aantal afgerond op 2 decimalen"
   ]
  },
  {
   "cell_type": "code",
   "execution_count": 5,
   "metadata": {},
   "outputs": [],
   "source": [
    "def avg(lst):\n",
    "    som = 0\n",
    "    aantal = 0\n",
    "    for num in lst:\n",
    "        som += num\n",
    "        aantal += 1\n",
    "    return round(som / aantal, 2)"
   ]
  },
  {
   "cell_type": "markdown",
   "metadata": {},
   "source": [
    "### Modus\n",
    "Voor de modus wordt een set gemaakt van de lijst (unieke waarden in de lijst) Vervolgens wordt door de set gelopen en voor elke waarde gekeken hoeveel keer deze waarde in de lijst voorkomt. De waarden van de set worden opgeslagen in een dictionary, met als value het aantal keer voorkomen in de lijst. Vervolgens kan door alle values worden gelopen en elke keer dat de value groter is dan de max-variabele (start op 0) wordt de max-variabele de value, waardoor aan het einde van de loop de max waarde het grootste aantal bevat. De key die bij die value hoort wordt vervolgens teruggegeven."
   ]
  },
  {
   "cell_type": "code",
   "execution_count": 6,
   "metadata": {},
   "outputs": [],
   "source": [
    "def mode(lst):\n",
    "    uniek = set(lst)\n",
    "    output = {}\n",
    "    for num in uniek:\n",
    "        aantal = 0\n",
    "        for i in lst:\n",
    "            if i == num:\n",
    "                aantal += 1\n",
    "        output[num] = aantal\n",
    "\n",
    "    max = 0\n",
    "    k = 0\n",
    "    for key, value in output.items():\n",
    "        if value > max:\n",
    "            max = value\n",
    "            k = key\n",
    "    return k"
   ]
  },
  {
   "cell_type": "markdown",
   "metadata": {},
   "source": [
    "### Standaarddeviatie\n",
    "De standaarddeviatie kan worden berekend met het verschil tussen elke waarde en het gemiddelde en de lengte van de lijst. De structuur van de functie lijkt op de functie van het gemiddelde, hierbij wordt de som gemaakt door het verschil van elke waarde met het gemiddelde van de lijst. Het totaal van deze waarden wordt gedeeld door de lengte van de lijst, de teruggegeven waarde is de wortel van de laatste waarde (hetzelfde als x tot de macht 1/2)"
   ]
  },
  {
   "cell_type": "code",
   "execution_count": 7,
   "metadata": {},
   "outputs": [],
   "source": [
    "def standarddeviation(lst):\n",
    "    som = 0\n",
    "    aantal = 0\n",
    "    average = avg(lst)\n",
    "    for num in lst:\n",
    "        som += ((num - average) ** 2)\n",
    "        aantal += 1\n",
    "    x = som / aantal\n",
    "    sqrt = x ** (float(1)/2)\n",
    "    return round(sqrt, 2)"
   ]
  },
  {
   "cell_type": "markdown",
   "metadata": {},
   "source": [
    "### Data printen\n",
    "Als laatste kan er nog een functie worden opgesteld die alle data uitrekent en print, zodat alle data netjes onder elkaar komen."
   ]
  },
  {
   "cell_type": "code",
   "execution_count": 8,
   "metadata": {},
   "outputs": [],
   "source": [
    "def printstatistics(data):\n",
    "    data.sort()\n",
    "    print(\"Gemiddelde:         \", avg(data))\n",
    "    print(\"Mediaan:            \", median(data))\n",
    "    print(\"Modus:              \", mode(data))\n",
    "    print(\"Standaarddeviatie:  \", standarddeviation(data))"
   ]
  },
  {
   "cell_type": "markdown",
   "metadata": {},
   "source": [
    "Hiermee kan data van verschillende kolommen worden geprint, bijvoorbeeld de data van 'vertrek naar andere gemeente, en data van 'levend geboren kinderen':"
   ]
  },
  {
   "cell_type": "code",
   "execution_count": 9,
   "metadata": {},
   "outputs": [
    {
     "name": "stdout",
     "output_type": "stream",
     "text": [
      "Vertrek naar andere gemeente:\n",
      "Gemiddelde:          1465.65\n",
      "Mediaan:             1389.5\n",
      "Modus:               1239\n",
      "Standaarddeviatie:   294.23\n",
      "\n",
      "Levend geboren kinderen:\n",
      "Gemiddelde:          396.03\n",
      "Mediaan:             398.5\n",
      "Modus:               392\n",
      "Standaarddeviatie:   38.55\n"
     ]
    }
   ],
   "source": [
    "print(\"Vertrek naar andere gemeente:\")\n",
    "printstatistics(data[columns['VertrekNaarAndereGemeente_8']])\n",
    "print(\"\\nLevend geboren kinderen:\")\n",
    "printstatistics(data[columns['LevendGeborenKinderen_2']])"
   ]
  },
  {
   "cell_type": "markdown",
   "metadata": {},
   "source": [
    "## Data weergeven in een plot\n",
    "De data uit 'utrecht.csv' kan ook worden weergegeven in een plot. Hier wordt de data van 'levend geboren kinderen' van de laatste 12 perioden weergegeven in een plot:"
   ]
  },
  {
   "cell_type": "code",
   "execution_count": 10,
   "metadata": {},
   "outputs": [
    {
     "data": {
      "image/png": "[encoded data removed]",
      "text/plain": [
       "<Figure size 432x288 with 1 Axes>"
      ]
     },
     "metadata": {
      "needs_background": "light"
     },
     "output_type": "display_data"
    }
   ],
   "source": [
    "x = data[columns[\"Perioden\"]][-12:-1]\n",
    "y = data[columns[\"LevendGeborenKinderen_2\"]][-12:-1]\n",
    "plt.plot(x, y, 'o')\n",
    "plt.xticks(rotation=90)\n",
    "plt.show()"
   ]
  },
  {
   "cell_type": "markdown",
   "metadata": {},
   "source": [
    "Om een lijn te tekenen kunnen de volgende formules worden gebruikt:<br>\n",
    "$y=a+bx$<br><br>Waarbij:<br><br>\n",
    "$b = \\Large{\\frac{\\sum x_i  y_i - n \\bar x\\bar y )} {\\sum (x_i - \\bar x)^2}}$<br><br>\n",
    "$a = \\bar y - b \\bar x$<br><br>\n",
    "a en b kunnen dan volgens bovenstaande formules worden berekend in python (in 1 functie):"
   ]
  },
  {
   "cell_type": "code",
   "execution_count": 11,
   "metadata": {},
   "outputs": [],
   "source": [
    "def linear_fit(X, Y):\n",
    "    x = avg(X)\n",
    "    y = avg(Y)\n",
    "    n = len(X)\n",
    "    num = sum(i * j for i, j in zip(X, Y)) - n * x * y\n",
    "    denum = sum(i**2 for i in X) - n * x**2\n",
    "    b = num / denum\n",
    "    a = y - b * x\n",
    "    return a, b"
   ]
  },
  {
   "cell_type": "markdown",
   "metadata": {},
   "source": [
    "Vervolgens kan deze functie worden gebruikt om a en b te bepalen waarbij Y de lijst met geselecteerde data is en X een optellende getallenreeks vanaf 0 (De x-as met perioden is een string, waarmee niet te rekenen valt bij het maken van een lineaire lijn):"
   ]
  },
  {
   "cell_type": "code",
   "execution_count": 12,
   "metadata": {},
   "outputs": [
    {
     "data": {
      "image/png": "[encoded data removed]",
      "text/plain": [
       "<Figure size 432x288 with 1 Axes>"
      ]
     },
     "metadata": {
      "needs_background": "light"
     },
     "output_type": "display_data"
    }
   ],
   "source": [
    "xfit = list(range(len(x))) #lijst met getallen ipv strings\n",
    "a, b = linear_fit(xfit, y)\n",
    "yfit = [a + b * i for i in xfit]\n",
    "plt.scatter(x, y) #plotten van de dots\n",
    "plt.plot(x, yfit, '-r') #plotten van de lijn\n",
    "plt.xticks(rotation=90)\n",
    "plt.show()"
   ]
  },
  {
   "cell_type": "code",
   "execution_count": null,
   "metadata": {},
   "outputs": [],
   "source": []
  }
 ],
 "metadata": {
  "kernelspec": {
   "display_name": "Python 3",
   "language": "python",
   "name": "python3"
  },
  "language_info": {
   "codemirror_mode": {
    "name": "ipython",
    "version": 3
   },
   "file_extension": ".py",
   "mimetype": "text/x-python",
   "name": "python",
   "nbconvert_exporter": "python",
   "pygments_lexer": "ipython3",
   "version": "3.6.4"
  }
 },
 "nbformat": 4,
 "nbformat_minor": 2
}
