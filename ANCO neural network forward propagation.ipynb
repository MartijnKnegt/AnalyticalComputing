{
 "cells": [
  {
   "cell_type": "markdown",
   "metadata": {},
   "source": [
    "# Neuraal netwerk doorrekenen\n",
    "<br>\n",
    "Toelichting: Het programma opent de json file met de layers (layers.json) en zet de data om naar een Python dictionary. Vervolgens wordt er door de dictionary gelopen, en wordt elke layer geselecteerd. Hierbij wordt er van de gewichten van elke layer een matrix gemaakt met de juiste waarden. Verbindingen die niet bestaan (zoals in layer 1) blijven op 0, omdat voor het invullen van elke matrix eerst een matrix wordt gemaakt met alleen maar '0'.\n",
    "\n",
    "### Matrix-vector multiplication\n",
    "De matrix-vector vermenigvuldiging gebeurt in de line met de 'res' variabele. Hierbij wordt door door elke rij van de matrix gelopen: 'for row in m'. Bij elke rij wordt de som (sum) genomen van de lijst: het 'i'-element in row (geselecteerde rij, i is dan de kolom.) * het 'i'-element van x. Hier is 'x' de vector waarmee vermenigvuldigd wordt. De range van 'i' wordt bepaald door de size_in van de huidige layer waarvoor vermenigvuldiging wordt gedaan. Dit is altijd hetzelfde als het aantal kolommen van de matrix van de huidige layer."
   ]
  },
  {
   "cell_type": "code",
   "execution_count": 1,
   "metadata": {},
   "outputs": [
    {
     "name": "stdout",
     "output_type": "stream",
     "text": [
      "[0.62 0.36]\n"
     ]
    }
   ],
   "source": [
    "import numpy as np\n",
    "import json\n",
    "\n",
    "\n",
    "def createMatrix(layer):\n",
    "    x, y = int(layer[\"size_in\"]), int(layer[\"size_out\"])\n",
    "    a = np.zeros((y, x))\n",
    "    for i in layer[\"weights\"]:\n",
    "        for key, value in layer[\"weights\"][i].items():\n",
    "            a[int(key) - 1, int(i) - 1] = float(value)\n",
    "    return a\n",
    "\n",
    "\n",
    "filename = \"layers.json\"\n",
    "with open(filename) as f:\n",
    "    data = json.load(f)\n",
    "\n",
    "x = np.ones(int(data[\"layer1\"][\"size_in\"]))\n",
    "for layer in data:\n",
    "    m = createMatrix(data[layer])\n",
    "    res = np.array([sum([row[i] * x[i] for i in range(int(data[layer][\"size_in\"]))]) for row in m])\n",
    "    x = res\n",
    "print(x)"
   ]
  }
 ],
 "metadata": {
  "kernelspec": {
   "display_name": "Python 3",
   "language": "python",
   "name": "python3"
  },
  "language_info": {
   "codemirror_mode": {
    "name": "ipython",
    "version": 3
   },
   "file_extension": ".py",
   "mimetype": "text/x-python",
   "name": "python",
   "nbconvert_exporter": "python",
   "pygments_lexer": "ipython3",
   "version": "3.6.0"
  }
 },
 "nbformat": 4,
 "nbformat_minor": 2
}
