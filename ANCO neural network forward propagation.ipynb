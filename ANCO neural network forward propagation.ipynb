{
 "cells": [
  {
   "cell_type": "markdown",
   "metadata": {},
   "source": [
    "# Neuraal netwerk doorrekenen\n",
    "<br>\n",
    "Toelichting: Het programma opent de json file met de layers (layers.json) en zet de data om naar een Python dictionary. Vervolgens wordt er door de dictionary gelopen, en wordt elke layer geselecteerd. Hierbij wordt er van de gewichten van elke layer een matrix gemaakt met de juiste waarden. Verbindingen die niet bestaan (zoals in layer 1) blijven op 0, omdat voor het invullen van elke matrix eerst een matrix wordt gemaakt met alleen maar '0'.\n",
    "\n",
    "### Matrix multiplication\n",
    "Voor het vermenigvuldigen van de matrix is een functie geschreven: matrixMultiply(m1, m2) Deze functie voert een handmatige matrixmultiplicatie uit van matrix1 * matrix2. De functie kan ook matrix-vector multiplicatie uitvoeren, hierbij wordt de invoer gezien als een 1xn matrix. In de functie wordt dit gecontroleerd zodat er matrix-vector multiplicatie kan worden toegepast.\n",
    "\n",
    "### Forward propagation\n",
    "het doorrekenen van het netwerk wordt gedaan door de forward_propagation functie. Deze loopt door de opgegeven matrixen heen en doet hierbij elke keer matrix-multiplicatie."
   ]
  },
  {
   "cell_type": "code",
   "execution_count": 3,
   "metadata": {},
   "outputs": [
    {
     "name": "stdout",
     "output_type": "stream",
     "text": [
      "[0.62 0.36]\n"
     ]
    }
   ],
   "source": [
    "import numpy as np\n",
    "import json\n",
    "\n",
    "\n",
    "def createMatrix(layer):\n",
    "    x, y = int(layer[\"size_in\"]), int(layer[\"size_out\"])\n",
    "    a = np.zeros((y, x))\n",
    "    for i in layer[\"weights\"]:\n",
    "        for key, value in layer[\"weights\"][i].items():\n",
    "            a[int(key) - 1, int(i) - 1] = float(value)\n",
    "    return a\n",
    "\n",
    "\n",
    "def matrixMultiply(m1, m2):\n",
    "    if m1.ndim == 1:\n",
    "        output = np.array([sum([row[i] * m1[i] for i in range(len(m1))]) for row in m2])\n",
    "        return output\n",
    "    output = np.zeros((len(m1), len(m2[0, :])))\n",
    "    for row in range(len(m1)):\n",
    "        for column in range(len(m2[0, :])):\n",
    "            output[row, column] = sum([m1[row, i] * m2[i, column] for i in range(len(m2))])\n",
    "    return output\n",
    "\n",
    "\n",
    "def forward_propagation(*matrices):\n",
    "    if len(matrices) >= 2:\n",
    "        res = matrixMultiply(matrices[1], matrices[0])\n",
    "        if len(matrices[2:]) > 0:\n",
    "            for m in matrices[2:]:\n",
    "                res = matrixMultiply(m, res)\n",
    "        return res\n",
    "    return \"Minimaal aantal elementen is 2\"\n",
    "\n",
    "\n",
    "filename = \"layers.json\"\n",
    "with open(filename) as f:\n",
    "    data = json.load(f)\n",
    "\n",
    "vector_x = np.ones(int(data[\"layer1\"][\"size_in\"]))\n",
    "matrix1 = createMatrix(data[\"layer1\"])\n",
    "matrix2 = createMatrix(data[\"layer2\"])\n",
    "print(forward_propagation(matrix1, matrix2, vector_x))"
   ]
  }
 ],
 "metadata": {
  "kernelspec": {
   "display_name": "Python 3",
   "language": "python",
   "name": "python3"
  },
  "language_info": {
   "codemirror_mode": {
    "name": "ipython",
    "version": 3
   },
   "file_extension": ".py",
   "mimetype": "text/x-python",
   "name": "python",
   "nbconvert_exporter": "python",
   "pygments_lexer": "ipython3",
   "version": "3.6.4"
  }
 },
 "nbformat": 4,
 "nbformat_minor": 2
}
