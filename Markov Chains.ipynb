{
 "cells": [
  {
   "cell_type": "markdown",
   "metadata": {},
   "source": [
    "# Markov Chains\n",
    "De kansentabel kan worden omgeschreven in een kansen / transitie matrix: \n",
    "$\\begin{bmatrix}0.8&0.1&0.1\\\\0.4&0.5&0.1\\\\0.6&0.2&0.2\\end{bmatrix}$<br><br>\n",
    "Vervolgens kan de <i>np.dot()</i> functie worden gebruikt met als argumenten de 'weights' vector [0.1, 0.7, 0.2] en de bovenstaande transitiematrix.<br>\n",
    "Omdat het uitrekenen en plotten van de kansen over tijd meerdere keren moet gebeuren kan van de acties een functie worden geschreven:"
   ]
  },
  {
   "cell_type": "code",
   "execution_count": 5,
   "metadata": {},
   "outputs": [],
   "source": [
    "import numpy as np\n",
    "import matplotlib.pyplot as plt\n",
    "\n",
    "\n",
    "def plotmarkov(transition, weights, names):\n",
    "    y = np.array([weights])\n",
    "    for i in range(50):\n",
    "        weights = np.dot(weights, transition)\n",
    "        y = np.append(y, [weights], axis=0)\n",
    "    x = np.arange(51)\n",
    "    end = []\n",
    "    for i in range(len(y[0, :])):\n",
    "        plot_y = y[:, i]    #plot elke kolom = elk element in de Markov Chain\n",
    "        plt.plot(x, plot_y)\n",
    "        end.append(plot_y[-1])\n",
    "    plt.legend(names, loc=\"center left\", bbox_to_anchor=(1, 0.5))\n",
    "    plt.show()\n",
    "    for i in range(len(names)):\n",
    "        print(\"{}: {}%\".format(names[i], round(end[i] * 100, 1)))"
   ]
  },
  {
   "cell_type": "markdown",
   "metadata": {},
   "source": [
    "Met behulp van deze functie kan data worden geplot en geprint"
   ]
  },
  {
   "cell_type": "code",
   "execution_count": 6,
   "metadata": {},
   "outputs": [
    {
     "data": {
      "image/png": "[encoded data removed]",
      "text/plain": [
       "<Figure size 432x288 with 1 Axes>"
      ]
     },
     "metadata": {
      "needs_background": "light"
     },
     "output_type": "display_data"
    },
    {
     "name": "stdout",
     "output_type": "stream",
     "text": [
      "Hongerig: 70.4%\n",
      "Tevreden: 18.5%\n",
      "Opgejaagd: 11.1%\n"
     ]
    }
   ],
   "source": [
    "transition = np.array([[0.8, 0.1, 0.1],\n",
    "                       [0.4, 0.5, 0.1],\n",
    "                       [0.6, 0.2, 0.2]])\n",
    "weights = np.array([0.1, 0.7, 0.2])\n",
    "names = [\"Hongerig\", \"Tevreden\", \"Opgejaagd\"]\n",
    "plotmarkov(transition, weights, names)"
   ]
  },
  {
   "cell_type": "markdown",
   "metadata": {},
   "source": [
    "Met het gebruik van dezelfde functie kan de data worden uitgebreid naar een 4x4 transitiematrix:"
   ]
  },
  {
   "cell_type": "code",
   "execution_count": 7,
   "metadata": {},
   "outputs": [
    {
     "data": {
      "image/png": "[encoded data removed]",
      "text/plain": [
       "<Figure size 432x288 with 1 Axes>"
      ]
     },
     "metadata": {
      "needs_background": "light"
     },
     "output_type": "display_data"
    },
    {
     "name": "stdout",
     "output_type": "stream",
     "text": [
      "Hongerig: 33.0%\n",
      "Tevreden: 22.2%\n",
      "Opgejaagd: 18.2%\n",
      "Extra: 26.5%\n"
     ]
    }
   ],
   "source": [
    "transition2 = np.array([[0.3, 0.2, 0.2, 0.3],\n",
    "                        [0.6, 0.1, 0.2, 0.1],\n",
    "                        [0.1, 0.3, 0.1, 0.5],\n",
    "                        [0.3, 0.3, 0.2, 0.2]])\n",
    "weights2 = np.array([0.4, 0.2, 0.1, 0.3])\n",
    "names2 = [\"Hongerig\", \"Tevreden\", \"Opgejaagd\", \"Extra\"]\n",
    "plotmarkov(transition2, weights2, names2)"
   ]
  },
  {
   "cell_type": "markdown",
   "metadata": {},
   "source": [
    "## Eigenbasis\n",
    "De eigenvalues van de transitiematrix kunnen berekend worden met $det(\\lambda I_n - A) = 0$<br>\n",
    "$\\begin{bmatrix}\\lambda-0.8&-0.1&-0.1\\\\-0.4&\\lambda-0.5&-0.1\\\\-0.6&-0.2&\\lambda-0.2\\end{bmatrix}$<br><br>\n",
    "Een methode om de determinant = 0 te bepalen is het gebruik van de Sarrus-regel:<br><br>\n",
    "$\\begin{bmatrix}\\lambda-0.8&-0.1&-0.1\\\\-0.4&\\lambda-0.5&-0.1\\\\-0.6&-0.2&\\lambda-0.2\\end{bmatrix}$\n",
    "$\\begin{matrix}\\lambda-0.8&-0.1\\\\-0.4&\\lambda-0.5\\\\-0.6&-0.2\\end{matrix}$<br><br>\n",
    "$(\\lambda-0.8)(\\lambda-0.5)(\\lambda-0.2) - 0.006 - 0.008 - 0.06(\\lambda-0.5) - 0.02(\\lambda-0.8) - 0.04(\\lambda-0.2) =$<br>\n",
    "$\\lambda^3 - 0.7\\lambda^2 + 0.1\\lambda - 0.8\\lambda^2 + 0.56\\lambda -0.08 - 0.014 - 0.06\\lambda + 0.03 - 0.02\\lambda + 0.016 - 0.04\\lambda + 0.008 =$<br>\n",
    "$\\lambda^3 - 1.5\\lambda^2 + 0.54\\lambda - 0.04 = 0$<br><br>\n",
    "Bij het oplossen van bovenstaande vergelijking is: $\\lambda = 1, \\lambda = 0.4, \\lambda = 0.1$<br><br>\n",
    "Deze variabelen kunnen worden gebruikt als eigenbasis matrix:<br>\n",
    "$\\begin{bmatrix}1&0&0\\\\0&0.4&0\\\\0&0&0.1\\end{bmatrix}$<br><br>\n",
    "Bij deze matrix is het makkelijk om deze tot de macht n te doen, in dit geval n = 100:<br><br>\n",
    "$\\begin{bmatrix}1^{100}&0&0\\\\0&0.4^{100}&0\\\\0&0&0.1^{100}\\end{bmatrix}$<br><br>\n",
    "In combinatie met de matrix van eigenvectors kan deze matrix worden teruggerekend tot de oorspronkelijke transitiematrix maar dan ook tot de macht 100:<br><br>\n",
    "$\\begin{bmatrix}1&-2&-0.125\\\\1&7&-0.125\\\\1&1&1\\end{bmatrix}$\n",
    "$\\begin{bmatrix}1^{100}&0&0\\\\0&0.4^{100}&0\\\\0&0&0.1^{100}\\end{bmatrix}$\n",
    "$\\begin{bmatrix}1&-2&-0.125\\\\1&7&-0.125\\\\1&1&1\\end{bmatrix}^{-1}$<br><br>\n",
    "Bij het vermenigvuldigen van bovenstaande ontstaat een 3x3 matrix met omgezet hetzelfde aantal procenten als bij de eerste berekening (Hongerig: 70,4%, Tevreden: 18.5%, Opgejaagd: 11.1%)\n",
    "### Implementatie\n",
    "Voor controle kan bovenstaande berekening geïmplementeerd worden in python:"
   ]
  },
  {
   "cell_type": "code",
   "execution_count": 9,
   "metadata": {},
   "outputs": [
    {
     "name": "stdout",
     "output_type": "stream",
     "text": [
      "70.4%\n",
      "18.5%\n",
      "11.1%\n"
     ]
    }
   ],
   "source": [
    "start = np.array([[0.8, 0.1, 0.1],\n",
    "                  [0.4, 0.5, 0.1],\n",
    "                  [0.6, 0.2, 0.2]])\n",
    "eigenvectors = np.array([[1, -2, -0.125], [1, 7, -0.125], [1, 1, 1]])\n",
    "inv = np.linalg.inv(eigenvectors)\n",
    "eigenbasis = np.array([[1, 0, 0], [0, 0.4, 0], [0, 0, 0.1]])\n",
    "deel = np.dot(v, np.linalg.matrix_power(eigenbasis, 100))\n",
    "terug = np.dot(deel, inv)\n",
    "for i in terug[0]:\n",
    "    print(\"{}%\".format(round(i * 100, 1)))"
   ]
  }
 ],
 "metadata": {
  "kernelspec": {
   "display_name": "Python 3",
   "language": "python",
   "name": "python3"
  },
  "language_info": {
   "codemirror_mode": {
    "name": "ipython",
    "version": 3
   },
   "file_extension": ".py",
   "mimetype": "text/x-python",
   "name": "python",
   "nbconvert_exporter": "python",
   "pygments_lexer": "ipython3",
   "version": "3.6.4"
  }
 },
 "nbformat": 4,
 "nbformat_minor": 2
}
