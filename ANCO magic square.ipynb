{
 "cells": [
  {
   "cell_type": "markdown",
   "metadata": {},
   "source": [
    "# 3x3 magisch vierkant\n",
    "Een 3x3 magisch vierkant kan worden geschreven als matrix:<br>\n",
    "$\\begin{bmatrix}x_1 & x_2 & x_3\\\\x_4 & x_5 & x_6\\\\x_7 & x_8 & x_9 \\end{bmatrix}$\n",
    "<br>\n",
    "om het magisch vierkant te schrijven in de matrix-vector vorm $A\\vec{x} = \\vec{b}$ kunnen $x_1 \\text{ t/m } x_9$ als vector x worden genomen,\n",
    "hierbij wordt $A$ gebruikt om aan te geven aan welke eisen het vierkant moet voldoen:\n",
    "<ul>\n",
    "    <li>Alle rijen opgeteld</li>\n",
    "    <li>Alle kolommen opgeteld</li>\n",
    "    <li>Alle diagonalen opgeteld</li>\n",
    "</ul>\n",
    "<br>\n",
    "Door matrix A als volgt op te stellen worden alle eisen meegenomen:<br>\n",
    "$\\begin{bmatrix}1&1&1&0&0&0&0&0&0\\\\0&0&0&1&1&1&0&0&0\\\\0&0&0&0&0&0&1&1&1\\\\1&0&0&1&0&0&1&0&0\\\\0&1&0&0&1&0&0&1&0\\\\0&0&1&0&0&1&0&0&1\\\\1&0&0&0&1&0&0&0&1\\\\0&0&1&0&1&0&1&0&0\\end{bmatrix}\\begin{bmatrix}x_1 \\\\ x_2 \\\\ x_3 \\\\ x_4 \\\\ x_5 \\\\ x_6 \\\\ x_7 \\\\ x_8 \\\\ x_9 \\end{bmatrix} = \\begin{bmatrix}t\\\\t\\\\t\\\\t\\\\t\\\\t\\\\t\\\\t\\\\t\\end{bmatrix}$<br><br>\n",
    "De formules voor de 9 waarden in de matrix kunnen worden bepaald met Gauss-Jordan eliminatie$^1$. Om deze techniek uit te voeren is een Augmentented Matrix nodig zonder variabelen. Om dit op te kunnen lossen kunnen we voor elke $t$ een '1' neerzetten. Als er dan andere waarden uitkomen voor t, kunnen we de variabele weer terugplaatsen.<br><br>\n",
    "\n",
    "Augmented Matrix $A|\\vec{b}$:<br>\n",
    "$\\left[\\begin{array}{ccccccccc|c}1&1&1&0&0&0&0&0&0&1\\\\0&0&0&1&1&1&0&0&0&1\\\\0&0&0&0&0&0&1&1&1&1\\\\1&0&0&1&0&0&1&0&0&1\\\\0&1&0&0&1&0&0&1&0&1\\\\0&0&1&0&0&1&0&0&1&1\\\\1&0&0&0&1&0&0&0&1&1\\\\0&0&1&0&1&0&1&0&0&1\\end{array}\\right]$\n",
    "<br><br>\n",
    "Het resultaat van de Gauss-Jordan eliminatie geeft 9 formules, deze vormen samen het vierkant. Alle formules hebben dezelfde variabelen, zodat bij verschillende bekende variabelen het systeem opgelost kan worden (minimaal 3 variabelen moeten bekend zijn):<br><br>\n",
    "$x_1 = \\frac{2}{3}t - x_9$<br>\n",
    "$x_2 = \\frac{2}{3}t - x_8$<br>\n",
    "$x_3 = -\\frac{1}{3}t + x_8 + x_9$<br>\n",
    "$x_4 = -\\frac{2}{3}t + x_8 + 2x_9$<br>\n",
    "$x_5 = \\frac{1}{3}t$<br>\n",
    "$x_6 = \\frac{4}{3}t - x_8 - 2x_9$<br>\n",
    "$x_7 = t - x_8 - x_9$<br>\n",
    "<br><br>\n",
    "$^1$ https://matrix.reshish.com/nl/gauss-jordanElimination.php<br>\n",
    "De vergelijkingen kunnen ook worden geschreven als coëfficient-matrixen. Op deze manier kunnen de formules worden ingeladen in een numpy array in Python:"
   ]
  },
  {
   "cell_type": "code",
   "execution_count": 1,
   "metadata": {},
   "outputs": [],
   "source": [
    "import numpy as np\n",
    "\n",
    "f = np.array([[2/3, 0, -1], [2/3, -1, 0], [-1/3, 1, 1],\n",
    "              [-2/3, 1, 2], [1/3, 0, 0], [4/3, -1, -2],\n",
    "              [1, -1, -1], [0, 1, 0], [0, 0, 1]])"
   ]
  },
  {
   "cell_type": "markdown",
   "metadata": {},
   "source": [
    "Als we 3 voorbeeldwaarden kiezen kunnen we het systeem van vergelijkingen omschrijven naar een Augmented Matrix en de matrix omzetten in Reduced Row Echelon Form om het systeem op te lossen<br>\n",
    "$x_1 = 8 \\quad x_6 = 9 \\quad x_7 = 6$<br><br>\n",
    "formules van de gegeven waarden:<br>\n",
    "$\\frac{2}{3}t - x_9 = 8$<br>\n",
    "$\\frac{4}{3}t - x_8 - 2x_9 = 9$<br>\n",
    "$t - x_8 - x_9 = 6$<br><br>\n",
    "\n",
    "de formules kunnen in matrix-vorm worden weergegeven:\n",
    "$\\begin{bmatrix}\\frac{2}{3}&0&-1\\\\\\frac{4}{3}&-1&-2\\\\1&-1&-9\\end{bmatrix}$<br><br>\n",
    "Met de gegeven waarden kan hier een augmented matrix van worden gemaakt:\n",
    "$\\left[\\begin{array}{ccc|c}\\frac{2}{3}&0&-1&8\\\\\\frac{4}{3}&-1&-2&9\\\\1&-1&-9&6\\end{array}\\right]$<br><br>\n",
    "De augmented matrix kan vervolgens in reduced row echelon form worden gezet:\n",
    "$\\left[\\begin{array}{ccc|c}1&0&0&15\\\\0&1&0&7\\\\0&0&1&2\\end{array}\\right]$<br><br>\n",
    "De waarden die uit deze matrix voortkomen zijn:\n",
    "$t = 15 \\quad x_8 = 7 \\quad x_9 = 2$<br><br>\n",
    "Met deze waarden kan de rest van de variabelen worden ingevuld:\n",
    "$x_1 = 8$<br>\n",
    "$x_2 = \\frac{2}{3} * 15 - 7 = 3$<br>\n",
    "$x_3 = -\\frac{1}{3} * 15 + 7 + 2 = 4$<br>\n",
    "$x_4 = -\\frac{2}{3} * 15 + 7 + 2 * 2 = 1$<br>\n",
    "$x_5 = \\frac{1}{3} * 15 = 5$<br>\n",
    "$x_6 = 9$<br>\n",
    "$x_7 = 6$<br>\n",
    "$x_8 = 7$<br>\n",
    "$x_9 = 2$<br><br>\n",
    "deze 9 waarden vormen samen een magisch vierkant met som 15:<br>\n",
    "$\\begin{bmatrix}8&3&4\\\\1&5&9\\\\6&7&2\\end{bmatrix}$<br><br>\n",
    "Voor het oplossen in Python kan een functie worden gebruikt die als argument een numpy array heeft die ingevuld kan worden, alle waarden die niet bekend zijn worden een '0'."
   ]
  },
  {
   "cell_type": "markdown",
   "metadata": {},
   "source": [
    "### Restrictie\n",
    "Er zijn mogelijkheden voor de 3 gegeven waarden waarbij de determinant van de 3 bijbehorende formules 0 is. In dit geval kunnen de rest van de waarden niet worden bepaald omdat het aantal oplossingen van de 3 formules oneindig is.<br>\n",
    "#### voorbeeld\n",
    "gegeven waarden: $x_2 = 3\\quad x_6 = 9\\quad x_7 = 6$<br>\n",
    "de formules $x_2, x_6, x_7$ kunnen in matrix-vorm worden weergegeven:<br><br>\n",
    "$\\begin{bmatrix}\\frac{2}{3}&-1&0\\\\\\frac{4}{3}&-1&-2\\\\1&-1&-1\\end{bmatrix}$<br><br>\n",
    "Voor de determinant van een 3x3 matrix geldt:<br>\n",
    "$det = aei + bfg + cdh - ceg - bdi - afh$<br>\n",
    "$det = \\frac{2}{3} * -1 * -1 + -1 * -2 * 1 + 0 * \\frac{4}{3} * -1 - 0 * -1 * 1 - -1 * \\frac{4}{3} * -1 - \\frac{2}{3} * -2 * -1 = 0$<br><br>\n",
    "Door een determinant van 0 hebben de vergelijkingen $x_2\\quad x_6\\quad x_7$ geen unieke oplossing en kunnen daardoor de rest van de waarden niet worden gevonden.<br><br>\n",
    "\n",
    "In de Python functie kan de determinant berekend worden met <i>np.linalg.det({matrix})</i> (Dit kan alleen de matrix een gelijke hoogte en breedte heeft)"
   ]
  },
  {
   "cell_type": "code",
   "execution_count": 7,
   "metadata": {},
   "outputs": [],
   "source": [
    "def magic_square(lst, formula):\n",
    "    values = np.nonzero(lst)[0]\n",
    "    a = np.array([formula[i] for i in values]) #juiste formules nemen\n",
    "    b = np.array([lst[i] for i in values]) #bijbehorende uitkomsten voor de formules nemen (gegeven waarden)\n",
    "    if a.shape[0] == a.shape[1]:\n",
    "        if np.linalg.det(a) == 0:\n",
    "            return \"Geen oplossing: Determinant = 0\"\n",
    "        solve = np.linalg.solve(a, b)\n",
    "    else:\n",
    "        solve = np.linalg.lstsq(a, b, rcond=None)[0]\n",
    "    msquare = [int(round(np.dot(i, solve))) for i in formula] #bereken overige waarden\n",
    "    m = np.array(msquare).reshape((3, 3)) #zet vierkant om naar 3x3\n",
    "    check = np.array([*m.sum(axis=0), *m.sum(axis=1), m.trace(), np.fliplr(m).trace()]) #controleer waarden\n",
    "    if np.unique(check).size == 1:\n",
    "        return m\n",
    "    else:\n",
    "        return \"Geen oplossing: Oplossing bestaat niet uit integers\""
   ]
  },
  {
   "cell_type": "markdown",
   "metadata": {},
   "source": [
    "Als de determinant niet 0 is kan <i>np.linalg.solve(a, b)</i> toegepast worden, deze functie berekent de waarden in het systeem van vergelijkingen (als in het bovenstaande handmatige voorbeeld):"
   ]
  },
  {
   "cell_type": "markdown",
   "metadata": {},
   "source": [
    "Bij een matrix met verschillende dimensiegrootte werkt <i>np.linalg.solve(a, b)</i> niet. Hiervoor kan een benadering van de berekening worden toegepast met <i>np.linalg.lstsq(a, b)</i> gebruikt worden"
   ]
  },
  {
   "cell_type": "markdown",
   "metadata": {},
   "source": [
    "Vervolgens kunnen de overige waarden berekend worden met <i>np.dot()</i> Daarna worden de waarden ingevuld in een 3x3 numpy array. De waarden worden daarna gecontroleerd, de rijen, kolommen en diagonalen worden opgeteld om te kijken of het vierkant klopt. Op deze manier kan het vierkant alleen voldoen als het uit alleen maar integers bestaat"
   ]
  },
  {
   "cell_type": "markdown",
   "metadata": {},
   "source": [
    "met deze functie kunnen een aantal testen worden gedaan:"
   ]
  },
  {
   "cell_type": "code",
   "execution_count": 10,
   "metadata": {},
   "outputs": [
    {
     "name": "stdout",
     "output_type": "stream",
     "text": [
      "Test 1:\n",
      " [[8 3 4]\n",
      " [1 5 9]\n",
      " [6 7 2]] \n",
      "\n",
      "Test 2:\n",
      " Geen oplossing: Oplossing bestaat niet uit integers \n",
      "\n",
      "Test 3:\n",
      " [[101   5  71]\n",
      " [ 29  59  89]\n",
      " [ 47 113  17]] \n",
      "\n",
      "Test 4:\n",
      " [[5 2 8]\n",
      " [8 5 2]\n",
      " [2 8 5]]\n"
     ]
    }
   ],
   "source": [
    "test = np.array([8, 3, 0, 0, 0, 9, 0, 0, 2])\n",
    "test2 = np.array([5, 0, 0, 0, 0, 4, 0, 0, 6])\n",
    "test3 = np.array([101, 0, 71, 29, 0, 0, 47, 0, 0])\n",
    "test4 = np.array([0, 2, 0, 0, 0, 2, 0, 0, 5])\n",
    "print(\"Test 1:\\n\", magic_square(test, f), \"\\n\")\n",
    "print(\"Test 2:\\n\", magic_square(test2, f), \"\\n\")\n",
    "print(\"Test 3:\\n\", magic_square(test3, f), \"\\n\")\n",
    "print(\"Test 4:\\n\", magic_square(test4, f))"
   ]
  }
 ],
 "metadata": {
  "kernelspec": {
   "display_name": "Python 3",
   "language": "python",
   "name": "python3"
  },
  "language_info": {
   "codemirror_mode": {
    "name": "ipython",
    "version": 3
   },
   "file_extension": ".py",
   "mimetype": "text/x-python",
   "name": "python",
   "nbconvert_exporter": "python",
   "pygments_lexer": "ipython3",
   "version": "3.6.4"
  }
 },
 "nbformat": 4,
 "nbformat_minor": 2
}
